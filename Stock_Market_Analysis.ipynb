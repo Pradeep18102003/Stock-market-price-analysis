{
  "nbformat": 4,
  "nbformat_minor": 0,
  "metadata": {
    "colab": {
      "provenance": []
    },
    "kernelspec": {
      "name": "python3",
      "display_name": "Python 3"
    },
    "language_info": {
      "name": "python"
    }
  },
  "cells": [
    {
      "cell_type": "code",
      "execution_count": 2,
      "metadata": {
        "id": "aYJXPjrzTykE"
      },
      "outputs": [],
      "source": [
        "#importing the Libraries\n",
        "\n",
        "import tensorflow as tf\n",
        "import numpy as np\n",
        "import matplotlib.pyplot as plt\n",
        "import pandas as pd"
      ]
    },
    {
      "cell_type": "code",
      "source": [
        "df = pd.read_csv('Train.csv')\n",
        "df.head()"
      ],
      "metadata": {
        "colab": {
          "base_uri": "https://localhost:8080/",
          "height": 206
        },
        "id": "ygOmYombWCRt",
        "outputId": "765d1cea-dc93-4c87-fffe-527b0dede48c"
      },
      "execution_count": 3,
      "outputs": [
        {
          "output_type": "execute_result",
          "data": {
            "text/plain": [
              "         Date       Open       High        Low      Close  Adj Close  \\\n",
              "0  2018-01-02  42.540001  43.075001  42.314999  43.064999  40.615879   \n",
              "1  2018-01-03  43.132500  43.637501  42.990002  43.057499  40.608818   \n",
              "2  2018-01-04  43.134998  43.367500  43.020000  43.257500  40.797443   \n",
              "3  2018-01-05  43.360001  43.842499  43.262501  43.750000  41.261932   \n",
              "4  2018-01-08  43.587502  43.902500  43.482498  43.587502  41.108681   \n",
              "\n",
              "      Volume  \n",
              "0  102223600  \n",
              "1  118071600  \n",
              "2   89738400  \n",
              "3   94640000  \n",
              "4   82271200  "
            ],
            "text/html": [
              "\n",
              "  <div id=\"df-07fac9ac-a900-4c58-95ae-88e8df69f84a\" class=\"colab-df-container\">\n",
              "    <div>\n",
              "<style scoped>\n",
              "    .dataframe tbody tr th:only-of-type {\n",
              "        vertical-align: middle;\n",
              "    }\n",
              "\n",
              "    .dataframe tbody tr th {\n",
              "        vertical-align: top;\n",
              "    }\n",
              "\n",
              "    .dataframe thead th {\n",
              "        text-align: right;\n",
              "    }\n",
              "</style>\n",
              "<table border=\"1\" class=\"dataframe\">\n",
              "  <thead>\n",
              "    <tr style=\"text-align: right;\">\n",
              "      <th></th>\n",
              "      <th>Date</th>\n",
              "      <th>Open</th>\n",
              "      <th>High</th>\n",
              "      <th>Low</th>\n",
              "      <th>Close</th>\n",
              "      <th>Adj Close</th>\n",
              "      <th>Volume</th>\n",
              "    </tr>\n",
              "  </thead>\n",
              "  <tbody>\n",
              "    <tr>\n",
              "      <th>0</th>\n",
              "      <td>2018-01-02</td>\n",
              "      <td>42.540001</td>\n",
              "      <td>43.075001</td>\n",
              "      <td>42.314999</td>\n",
              "      <td>43.064999</td>\n",
              "      <td>40.615879</td>\n",
              "      <td>102223600</td>\n",
              "    </tr>\n",
              "    <tr>\n",
              "      <th>1</th>\n",
              "      <td>2018-01-03</td>\n",
              "      <td>43.132500</td>\n",
              "      <td>43.637501</td>\n",
              "      <td>42.990002</td>\n",
              "      <td>43.057499</td>\n",
              "      <td>40.608818</td>\n",
              "      <td>118071600</td>\n",
              "    </tr>\n",
              "    <tr>\n",
              "      <th>2</th>\n",
              "      <td>2018-01-04</td>\n",
              "      <td>43.134998</td>\n",
              "      <td>43.367500</td>\n",
              "      <td>43.020000</td>\n",
              "      <td>43.257500</td>\n",
              "      <td>40.797443</td>\n",
              "      <td>89738400</td>\n",
              "    </tr>\n",
              "    <tr>\n",
              "      <th>3</th>\n",
              "      <td>2018-01-05</td>\n",
              "      <td>43.360001</td>\n",
              "      <td>43.842499</td>\n",
              "      <td>43.262501</td>\n",
              "      <td>43.750000</td>\n",
              "      <td>41.261932</td>\n",
              "      <td>94640000</td>\n",
              "    </tr>\n",
              "    <tr>\n",
              "      <th>4</th>\n",
              "      <td>2018-01-08</td>\n",
              "      <td>43.587502</td>\n",
              "      <td>43.902500</td>\n",
              "      <td>43.482498</td>\n",
              "      <td>43.587502</td>\n",
              "      <td>41.108681</td>\n",
              "      <td>82271200</td>\n",
              "    </tr>\n",
              "  </tbody>\n",
              "</table>\n",
              "</div>\n",
              "    <div class=\"colab-df-buttons\">\n",
              "\n",
              "  <div class=\"colab-df-container\">\n",
              "    <button class=\"colab-df-convert\" onclick=\"convertToInteractive('df-07fac9ac-a900-4c58-95ae-88e8df69f84a')\"\n",
              "            title=\"Convert this dataframe to an interactive table.\"\n",
              "            style=\"display:none;\">\n",
              "\n",
              "  <svg xmlns=\"http://www.w3.org/2000/svg\" height=\"24px\" viewBox=\"0 -960 960 960\">\n",
              "    <path d=\"M120-120v-720h720v720H120Zm60-500h600v-160H180v160Zm220 220h160v-160H400v160Zm0 220h160v-160H400v160ZM180-400h160v-160H180v160Zm440 0h160v-160H620v160ZM180-180h160v-160H180v160Zm440 0h160v-160H620v160Z\"/>\n",
              "  </svg>\n",
              "    </button>\n",
              "\n",
              "  <style>\n",
              "    .colab-df-container {\n",
              "      display:flex;\n",
              "      gap: 12px;\n",
              "    }\n",
              "\n",
              "    .colab-df-convert {\n",
              "      background-color: #E8F0FE;\n",
              "      border: none;\n",
              "      border-radius: 50%;\n",
              "      cursor: pointer;\n",
              "      display: none;\n",
              "      fill: #1967D2;\n",
              "      height: 32px;\n",
              "      padding: 0 0 0 0;\n",
              "      width: 32px;\n",
              "    }\n",
              "\n",
              "    .colab-df-convert:hover {\n",
              "      background-color: #E2EBFA;\n",
              "      box-shadow: 0px 1px 2px rgba(60, 64, 67, 0.3), 0px 1px 3px 1px rgba(60, 64, 67, 0.15);\n",
              "      fill: #174EA6;\n",
              "    }\n",
              "\n",
              "    .colab-df-buttons div {\n",
              "      margin-bottom: 4px;\n",
              "    }\n",
              "\n",
              "    [theme=dark] .colab-df-convert {\n",
              "      background-color: #3B4455;\n",
              "      fill: #D2E3FC;\n",
              "    }\n",
              "\n",
              "    [theme=dark] .colab-df-convert:hover {\n",
              "      background-color: #434B5C;\n",
              "      box-shadow: 0px 1px 3px 1px rgba(0, 0, 0, 0.15);\n",
              "      filter: drop-shadow(0px 1px 2px rgba(0, 0, 0, 0.3));\n",
              "      fill: #FFFFFF;\n",
              "    }\n",
              "  </style>\n",
              "\n",
              "    <script>\n",
              "      const buttonEl =\n",
              "        document.querySelector('#df-07fac9ac-a900-4c58-95ae-88e8df69f84a button.colab-df-convert');\n",
              "      buttonEl.style.display =\n",
              "        google.colab.kernel.accessAllowed ? 'block' : 'none';\n",
              "\n",
              "      async function convertToInteractive(key) {\n",
              "        const element = document.querySelector('#df-07fac9ac-a900-4c58-95ae-88e8df69f84a');\n",
              "        const dataTable =\n",
              "          await google.colab.kernel.invokeFunction('convertToInteractive',\n",
              "                                                    [key], {});\n",
              "        if (!dataTable) return;\n",
              "\n",
              "        const docLinkHtml = 'Like what you see? Visit the ' +\n",
              "          '<a target=\"_blank\" href=https://colab.research.google.com/notebooks/data_table.ipynb>data table notebook</a>'\n",
              "          + ' to learn more about interactive tables.';\n",
              "        element.innerHTML = '';\n",
              "        dataTable['output_type'] = 'display_data';\n",
              "        await google.colab.output.renderOutput(dataTable, element);\n",
              "        const docLink = document.createElement('div');\n",
              "        docLink.innerHTML = docLinkHtml;\n",
              "        element.appendChild(docLink);\n",
              "      }\n",
              "    </script>\n",
              "  </div>\n",
              "\n",
              "\n",
              "<div id=\"df-35596f58-3e15-4ce2-83bb-a775f02bd938\">\n",
              "  <button class=\"colab-df-quickchart\" onclick=\"quickchart('df-35596f58-3e15-4ce2-83bb-a775f02bd938')\"\n",
              "            title=\"Suggest charts\"\n",
              "            style=\"display:none;\">\n",
              "\n",
              "<svg xmlns=\"http://www.w3.org/2000/svg\" height=\"24px\"viewBox=\"0 0 24 24\"\n",
              "     width=\"24px\">\n",
              "    <g>\n",
              "        <path d=\"M19 3H5c-1.1 0-2 .9-2 2v14c0 1.1.9 2 2 2h14c1.1 0 2-.9 2-2V5c0-1.1-.9-2-2-2zM9 17H7v-7h2v7zm4 0h-2V7h2v10zm4 0h-2v-4h2v4z\"/>\n",
              "    </g>\n",
              "</svg>\n",
              "  </button>\n",
              "\n",
              "<style>\n",
              "  .colab-df-quickchart {\n",
              "      --bg-color: #E8F0FE;\n",
              "      --fill-color: #1967D2;\n",
              "      --hover-bg-color: #E2EBFA;\n",
              "      --hover-fill-color: #174EA6;\n",
              "      --disabled-fill-color: #AAA;\n",
              "      --disabled-bg-color: #DDD;\n",
              "  }\n",
              "\n",
              "  [theme=dark] .colab-df-quickchart {\n",
              "      --bg-color: #3B4455;\n",
              "      --fill-color: #D2E3FC;\n",
              "      --hover-bg-color: #434B5C;\n",
              "      --hover-fill-color: #FFFFFF;\n",
              "      --disabled-bg-color: #3B4455;\n",
              "      --disabled-fill-color: #666;\n",
              "  }\n",
              "\n",
              "  .colab-df-quickchart {\n",
              "    background-color: var(--bg-color);\n",
              "    border: none;\n",
              "    border-radius: 50%;\n",
              "    cursor: pointer;\n",
              "    display: none;\n",
              "    fill: var(--fill-color);\n",
              "    height: 32px;\n",
              "    padding: 0;\n",
              "    width: 32px;\n",
              "  }\n",
              "\n",
              "  .colab-df-quickchart:hover {\n",
              "    background-color: var(--hover-bg-color);\n",
              "    box-shadow: 0 1px 2px rgba(60, 64, 67, 0.3), 0 1px 3px 1px rgba(60, 64, 67, 0.15);\n",
              "    fill: var(--button-hover-fill-color);\n",
              "  }\n",
              "\n",
              "  .colab-df-quickchart-complete:disabled,\n",
              "  .colab-df-quickchart-complete:disabled:hover {\n",
              "    background-color: var(--disabled-bg-color);\n",
              "    fill: var(--disabled-fill-color);\n",
              "    box-shadow: none;\n",
              "  }\n",
              "\n",
              "  .colab-df-spinner {\n",
              "    border: 2px solid var(--fill-color);\n",
              "    border-color: transparent;\n",
              "    border-bottom-color: var(--fill-color);\n",
              "    animation:\n",
              "      spin 1s steps(1) infinite;\n",
              "  }\n",
              "\n",
              "  @keyframes spin {\n",
              "    0% {\n",
              "      border-color: transparent;\n",
              "      border-bottom-color: var(--fill-color);\n",
              "      border-left-color: var(--fill-color);\n",
              "    }\n",
              "    20% {\n",
              "      border-color: transparent;\n",
              "      border-left-color: var(--fill-color);\n",
              "      border-top-color: var(--fill-color);\n",
              "    }\n",
              "    30% {\n",
              "      border-color: transparent;\n",
              "      border-left-color: var(--fill-color);\n",
              "      border-top-color: var(--fill-color);\n",
              "      border-right-color: var(--fill-color);\n",
              "    }\n",
              "    40% {\n",
              "      border-color: transparent;\n",
              "      border-right-color: var(--fill-color);\n",
              "      border-top-color: var(--fill-color);\n",
              "    }\n",
              "    60% {\n",
              "      border-color: transparent;\n",
              "      border-right-color: var(--fill-color);\n",
              "    }\n",
              "    80% {\n",
              "      border-color: transparent;\n",
              "      border-right-color: var(--fill-color);\n",
              "      border-bottom-color: var(--fill-color);\n",
              "    }\n",
              "    90% {\n",
              "      border-color: transparent;\n",
              "      border-bottom-color: var(--fill-color);\n",
              "    }\n",
              "  }\n",
              "</style>\n",
              "\n",
              "  <script>\n",
              "    async function quickchart(key) {\n",
              "      const quickchartButtonEl =\n",
              "        document.querySelector('#' + key + ' button');\n",
              "      quickchartButtonEl.disabled = true;  // To prevent multiple clicks.\n",
              "      quickchartButtonEl.classList.add('colab-df-spinner');\n",
              "      try {\n",
              "        const charts = await google.colab.kernel.invokeFunction(\n",
              "            'suggestCharts', [key], {});\n",
              "      } catch (error) {\n",
              "        console.error('Error during call to suggestCharts:', error);\n",
              "      }\n",
              "      quickchartButtonEl.classList.remove('colab-df-spinner');\n",
              "      quickchartButtonEl.classList.add('colab-df-quickchart-complete');\n",
              "    }\n",
              "    (() => {\n",
              "      let quickchartButtonEl =\n",
              "        document.querySelector('#df-35596f58-3e15-4ce2-83bb-a775f02bd938 button');\n",
              "      quickchartButtonEl.style.display =\n",
              "        google.colab.kernel.accessAllowed ? 'block' : 'none';\n",
              "    })();\n",
              "  </script>\n",
              "</div>\n",
              "\n",
              "    </div>\n",
              "  </div>\n"
            ],
            "application/vnd.google.colaboratory.intrinsic+json": {
              "type": "dataframe",
              "variable_name": "df",
              "summary": "{\n  \"name\": \"df\",\n  \"rows\": 1488,\n  \"fields\": [\n    {\n      \"column\": \"Date\",\n      \"properties\": {\n        \"dtype\": \"object\",\n        \"num_unique_values\": 1488,\n        \"samples\": [\n          \"2023-03-29\",\n          \"2021-07-29\",\n          \"2019-10-01\"\n        ],\n        \"semantic_type\": \"\",\n        \"description\": \"\"\n      }\n    },\n    {\n      \"column\": \"Open\",\n      \"properties\": {\n        \"dtype\": \"number\",\n        \"std\": 50.37579969463585,\n        \"min\": 35.994999,\n        \"max\": 196.240005,\n        \"num_unique_values\": 1419,\n        \"samples\": [\n          43.810001,\n          45.974998,\n          115.279999\n        ],\n        \"semantic_type\": \"\",\n        \"description\": \"\"\n      }\n    },\n    {\n      \"column\": \"High\",\n      \"properties\": {\n        \"dtype\": \"number\",\n        \"std\": 50.91059193205521,\n        \"min\": 36.43,\n        \"max\": 198.229996,\n        \"num_unique_values\": 1418,\n        \"samples\": [\n          44.3675,\n          73.419998,\n          133.559998\n        ],\n        \"semantic_type\": \"\",\n        \"description\": \"\"\n      }\n    },\n    {\n      \"column\": \"Low\",\n      \"properties\": {\n        \"dtype\": \"number\",\n        \"std\": 49.87663915172075,\n        \"min\": 35.5,\n        \"max\": 195.279999,\n        \"num_unique_values\": 1428,\n        \"samples\": [\n          46.299999,\n          146.929993,\n          65.625\n        ],\n        \"semantic_type\": \"\",\n        \"description\": \"\"\n      }\n    },\n    {\n      \"column\": \"Close\",\n      \"properties\": {\n        \"dtype\": \"number\",\n        \"std\": 50.417322305797846,\n        \"min\": 35.547501,\n        \"max\": 196.449997,\n        \"num_unique_values\": 1424,\n        \"samples\": [\n          148.279999,\n          113.019997,\n          145.380005\n        ],\n        \"semantic_type\": \"\",\n        \"description\": \"\"\n      }\n    },\n    {\n      \"column\": \"Adj Close\",\n      \"properties\": {\n        \"dtype\": \"number\",\n        \"std\": 50.62750518306498,\n        \"min\": 34.02924,\n        \"max\": 195.412216,\n        \"num_unique_values\": 1472,\n        \"samples\": [\n          122.958443,\n          53.648369,\n          140.700882\n        ],\n        \"semantic_type\": \"\",\n        \"description\": \"\"\n      }\n    },\n    {\n      \"column\": \"Volume\",\n      \"properties\": {\n        \"dtype\": \"number\",\n        \"std\": 55087872,\n        \"min\": 24048300,\n        \"max\": 426510000,\n        \"num_unique_values\": 1484,\n        \"samples\": [\n          69460800,\n          76662000,\n          98670700\n        ],\n        \"semantic_type\": \"\",\n        \"description\": \"\"\n      }\n    }\n  ]\n}"
            }
          },
          "metadata": {},
          "execution_count": 3
        }
      ]
    },
    {
      "cell_type": "code",
      "source": [
        "training_data =df.iloc[:,1:2].values\n",
        "training_data.shape"
      ],
      "metadata": {
        "colab": {
          "base_uri": "https://localhost:8080/"
        },
        "id": "tR62juztWULu",
        "outputId": "b131d443-09d3-408a-a61e-775d29a19110"
      },
      "execution_count": 4,
      "outputs": [
        {
          "output_type": "execute_result",
          "data": {
            "text/plain": [
              "(1488, 1)"
            ]
          },
          "metadata": {},
          "execution_count": 4
        }
      ]
    },
    {
      "cell_type": "code",
      "source": [
        "#Feature Scaling\n",
        "from sklearn.preprocessing import MinMaxScaler\n",
        "sc = MinMaxScaler()\n",
        "training_data_scaled = sc.fit_transform(training_data)"
      ],
      "metadata": {
        "id": "6QyH-y4QYyUU"
      },
      "execution_count": 5,
      "outputs": []
    },
    {
      "cell_type": "code",
      "source": [
        "training_data_scaled"
      ],
      "metadata": {
        "colab": {
          "base_uri": "https://localhost:8080/"
        },
        "id": "h7hx-ST9ZkKY",
        "outputId": "cb211bf8-cf30-4d7d-a78a-4b81682a8e2e"
      },
      "execution_count": 6,
      "outputs": [
        {
          "output_type": "execute_result",
          "data": {
            "text/plain": [
              "array([[0.04084372],\n",
              "       [0.04454118],\n",
              "       [0.04455676],\n",
              "       ...,\n",
              "       [0.96056035],\n",
              "       [0.95968669],\n",
              "       [0.96667596]])"
            ]
          },
          "metadata": {},
          "execution_count": 6
        }
      ]
    },
    {
      "cell_type": "code",
      "source": [
        "#Creating a data structure with 60 timesteps\n",
        "\n",
        "X_train = []\n",
        "Y_train = []\n",
        "\n",
        "for i in range(60, len(training_data_scaled)):\n",
        "    X_train.append(training_data_scaled[i-60:i, 0])\n",
        "    Y_train.append(training_data_scaled[i, 0])\n",
        "\n",
        "X_train, Y_train = np.array(X_train), np.array(Y_train)\n"
      ],
      "metadata": {
        "id": "fzYt92IyZzBW"
      },
      "execution_count": 7,
      "outputs": []
    },
    {
      "cell_type": "code",
      "source": [
        "X_train"
      ],
      "metadata": {
        "colab": {
          "base_uri": "https://localhost:8080/"
        },
        "id": "gaOSnS8hchZp",
        "outputId": "d4f544e0-a973-40ac-b942-f52a0dba07a1"
      },
      "execution_count": 8,
      "outputs": [
        {
          "output_type": "execute_result",
          "data": {
            "text/plain": [
              "array([[0.04084372, 0.04454118, 0.04455676, ..., 0.03758309, 0.04633529,\n",
              "        0.03630379],\n",
              "       [0.04454118, 0.04455676, 0.04596088, ..., 0.04633529, 0.03630379,\n",
              "        0.03717745],\n",
              "       [0.04455676, 0.04596088, 0.04738059, ..., 0.03630379, 0.03717745,\n",
              "        0.03535212],\n",
              "       ...,\n",
              "       [0.94758021, 0.957877  , 0.95032603, ..., 0.96985865, 0.97035789,\n",
              "        0.96648875],\n",
              "       [0.957877  , 0.95032603, 0.95107485, ..., 0.97035789, 0.96648875,\n",
              "        0.96056035],\n",
              "       [0.95032603, 0.95107485, 0.86857617, ..., 0.96648875, 0.96056035,\n",
              "        0.95968669]])"
            ]
          },
          "metadata": {},
          "execution_count": 8
        }
      ]
    },
    {
      "cell_type": "code",
      "source": [
        "Y_train"
      ],
      "metadata": {
        "colab": {
          "base_uri": "https://localhost:8080/"
        },
        "id": "hgkV4riMclhL",
        "outputId": "82058474-1366-4631-bd1d-cb0784a2486b"
      },
      "execution_count": 9,
      "outputs": [
        {
          "output_type": "execute_result",
          "data": {
            "text/plain": [
              "array([0.03717745, 0.03535212, 0.03691223, ..., 0.96056035, 0.95968669,\n",
              "       0.96667596])"
            ]
          },
          "metadata": {},
          "execution_count": 9
        }
      ]
    },
    {
      "cell_type": "code",
      "source": [
        "X_train.shape"
      ],
      "metadata": {
        "colab": {
          "base_uri": "https://localhost:8080/"
        },
        "id": "IDi2N4uBcZ0p",
        "outputId": "c8ae47e8-2619-4105-d156-1dc585b75d18"
      },
      "execution_count": 10,
      "outputs": [
        {
          "output_type": "execute_result",
          "data": {
            "text/plain": [
              "(1428, 60)"
            ]
          },
          "metadata": {},
          "execution_count": 10
        }
      ]
    },
    {
      "cell_type": "code",
      "source": [
        "#Reshaping\n",
        "\n",
        "X_train = X_train.reshape(X_train.shape[0], X_train.shape[1], 1)"
      ],
      "metadata": {
        "id": "2zEeC_EScpuS"
      },
      "execution_count": 11,
      "outputs": []
    },
    {
      "cell_type": "code",
      "source": [
        "X_train.shape"
      ],
      "metadata": {
        "colab": {
          "base_uri": "https://localhost:8080/"
        },
        "id": "LMsUdMy9c4tf",
        "outputId": "fb763f70-b735-4542-8d82-a842c1f0d8bf"
      },
      "execution_count": 12,
      "outputs": [
        {
          "output_type": "execute_result",
          "data": {
            "text/plain": [
              "(1428, 60, 1)"
            ]
          },
          "metadata": {},
          "execution_count": 12
        }
      ]
    },
    {
      "cell_type": "code",
      "source": [
        "#Building the model\n",
        "\n",
        "model = tf.keras.Sequential()\n",
        "\n",
        "#adding the 1st LSTM layer\n",
        "model.add(tf.keras.layers.LSTM(units = 60, activation = 'relu', return_sequences = True, input_shape = (X_train.shape[1], 1)))\n",
        "#dropout Layer\n",
        "model.add(tf.keras.layers.Dropout(0.2))\n",
        "\n",
        "#adding the 2nd LSTM layer\n",
        "model.add(tf.keras.layers.LSTM(units = 60, activation = 'relu', return_sequences = True))\n",
        "#dropout Layer\n",
        "model.add(tf.keras.layers.Dropout(0.2))\n",
        "\n",
        "#adding the 3rd LSTM layer\n",
        "model.add(tf.keras.layers.LSTM(units = 80, activation = 'relu', return_sequences = True, input_shape = (X_train.shape[1], 1)))\n",
        "#dropout Layer\n",
        "model.add(tf.keras.layers.Dropout(0.2))\n",
        "\n",
        "#adding the 4th LSTM layer\n",
        "model.add(tf.keras.layers.LSTM(units = 120, activation = 'relu', return_sequences = True, input_shape = (X_train.shape[1], 1)))\n",
        "#dropout Layer\n",
        "model.add(tf.keras.layers.Dropout(0.2))\n",
        "\n",
        "#adding the dense layer\n",
        "model.add(tf.keras.layers.Dense(units = 1))"
      ],
      "metadata": {
        "id": "XLbFEVZqUKeO"
      },
      "execution_count": 15,
      "outputs": []
    },
    {
      "cell_type": "code",
      "source": [
        "model.compile(optimizer = 'adam', loss = 'mean_squared_error')"
      ],
      "metadata": {
        "id": "vwQItpLpWV-P"
      },
      "execution_count": 16,
      "outputs": []
    },
    {
      "cell_type": "code",
      "source": [
        "#Training the model\n",
        "\n",
        "model.fit(X_train, Y_train, epochs = 100, batch_size = 32)"
      ],
      "metadata": {
        "colab": {
          "base_uri": "https://localhost:8080/"
        },
        "id": "MrYfoyy3WeoC",
        "outputId": "835a6f45-2e5d-45a6-9806-02f6eb99b7a4"
      },
      "execution_count": 17,
      "outputs": [
        {
          "output_type": "stream",
          "name": "stdout",
          "text": [
            "Epoch 1/100\n",
            "45/45 [==============================] - 14s 153ms/step - loss: 0.1410\n",
            "Epoch 2/100\n",
            "45/45 [==============================] - 8s 187ms/step - loss: 0.1045\n",
            "Epoch 3/100\n",
            "45/45 [==============================] - 7s 153ms/step - loss: 0.1022\n",
            "Epoch 4/100\n",
            "45/45 [==============================] - 8s 184ms/step - loss: 0.1015\n",
            "Epoch 5/100\n",
            "45/45 [==============================] - 8s 184ms/step - loss: 0.1019\n",
            "Epoch 6/100\n",
            "45/45 [==============================] - 7s 154ms/step - loss: 0.0995\n",
            "Epoch 7/100\n",
            "45/45 [==============================] - 8s 187ms/step - loss: 0.0991\n",
            "Epoch 8/100\n",
            "45/45 [==============================] - 7s 153ms/step - loss: 0.0987\n",
            "Epoch 9/100\n",
            "45/45 [==============================] - 8s 187ms/step - loss: 0.0987\n",
            "Epoch 10/100\n",
            "45/45 [==============================] - 8s 187ms/step - loss: 0.0979\n",
            "Epoch 11/100\n",
            "45/45 [==============================] - 7s 154ms/step - loss: 0.0981\n",
            "Epoch 12/100\n",
            "45/45 [==============================] - 9s 190ms/step - loss: 0.0980\n",
            "Epoch 13/100\n",
            "45/45 [==============================] - 7s 155ms/step - loss: 0.0975\n",
            "Epoch 14/100\n",
            "45/45 [==============================] - 8s 188ms/step - loss: 0.0972\n",
            "Epoch 15/100\n",
            "45/45 [==============================] - 8s 179ms/step - loss: 0.0974\n",
            "Epoch 16/100\n",
            "45/45 [==============================] - 7s 158ms/step - loss: 0.0969\n",
            "Epoch 17/100\n",
            "45/45 [==============================] - 8s 187ms/step - loss: 0.0973\n",
            "Epoch 18/100\n",
            "45/45 [==============================] - 7s 153ms/step - loss: 0.0975\n",
            "Epoch 19/100\n",
            "45/45 [==============================] - 8s 188ms/step - loss: 0.0968\n",
            "Epoch 20/100\n",
            "45/45 [==============================] - 8s 169ms/step - loss: 0.0967\n",
            "Epoch 21/100\n",
            "45/45 [==============================] - 8s 169ms/step - loss: 0.0973\n",
            "Epoch 22/100\n",
            "45/45 [==============================] - 8s 187ms/step - loss: 0.0965\n",
            "Epoch 23/100\n",
            "45/45 [==============================] - 7s 153ms/step - loss: 0.0967\n",
            "Epoch 24/100\n",
            "45/45 [==============================] - 8s 189ms/step - loss: 0.0966\n",
            "Epoch 25/100\n",
            "45/45 [==============================] - 7s 154ms/step - loss: 0.0969\n",
            "Epoch 26/100\n",
            "45/45 [==============================] - 8s 186ms/step - loss: 0.0964\n",
            "Epoch 27/100\n",
            "45/45 [==============================] - 8s 186ms/step - loss: 0.0962\n",
            "Epoch 28/100\n",
            "45/45 [==============================] - 7s 153ms/step - loss: 0.0965\n",
            "Epoch 29/100\n",
            "45/45 [==============================] - 8s 187ms/step - loss: 0.0964\n",
            "Epoch 30/100\n",
            "45/45 [==============================] - 7s 153ms/step - loss: 0.0963\n",
            "Epoch 31/100\n",
            "45/45 [==============================] - 8s 186ms/step - loss: 0.0965\n",
            "Epoch 32/100\n",
            "45/45 [==============================] - 8s 173ms/step - loss: 0.0963\n",
            "Epoch 33/100\n",
            "45/45 [==============================] - 8s 166ms/step - loss: 0.0964\n",
            "Epoch 34/100\n",
            "45/45 [==============================] - 8s 188ms/step - loss: 0.0965\n",
            "Epoch 35/100\n",
            "45/45 [==============================] - 7s 155ms/step - loss: 0.0963\n",
            "Epoch 36/100\n",
            "45/45 [==============================] - 8s 185ms/step - loss: 0.0967\n",
            "Epoch 37/100\n",
            "45/45 [==============================] - 7s 158ms/step - loss: 0.0964\n",
            "Epoch 38/100\n",
            "45/45 [==============================] - 8s 178ms/step - loss: 0.0962\n",
            "Epoch 39/100\n",
            "45/45 [==============================] - 8s 187ms/step - loss: 0.0962\n",
            "Epoch 40/100\n",
            "45/45 [==============================] - 7s 155ms/step - loss: 0.0961\n",
            "Epoch 41/100\n",
            "45/45 [==============================] - 8s 187ms/step - loss: 0.0962\n",
            "Epoch 42/100\n",
            "45/45 [==============================] - 7s 154ms/step - loss: 0.0961\n",
            "Epoch 43/100\n",
            "45/45 [==============================] - 8s 189ms/step - loss: 0.0961\n",
            "Epoch 44/100\n",
            "45/45 [==============================] - 8s 185ms/step - loss: 0.0963\n",
            "Epoch 45/100\n",
            "45/45 [==============================] - 7s 156ms/step - loss: 0.0960\n",
            "Epoch 46/100\n",
            "45/45 [==============================] - 8s 184ms/step - loss: 0.0961\n",
            "Epoch 47/100\n",
            "45/45 [==============================] - 7s 156ms/step - loss: 0.0964\n",
            "Epoch 48/100\n",
            "45/45 [==============================] - 8s 186ms/step - loss: 0.0960\n",
            "Epoch 49/100\n",
            "45/45 [==============================] - 8s 183ms/step - loss: 0.0961\n",
            "Epoch 50/100\n",
            "45/45 [==============================] - 7s 158ms/step - loss: 0.0959\n",
            "Epoch 51/100\n",
            "45/45 [==============================] - 8s 189ms/step - loss: 0.0964\n",
            "Epoch 52/100\n",
            "45/45 [==============================] - 7s 155ms/step - loss: 0.0960\n",
            "Epoch 53/100\n",
            "45/45 [==============================] - 8s 189ms/step - loss: 0.0962\n",
            "Epoch 54/100\n",
            "45/45 [==============================] - 8s 173ms/step - loss: 0.0960\n",
            "Epoch 55/100\n",
            "45/45 [==============================] - 8s 168ms/step - loss: 0.0961\n",
            "Epoch 56/100\n",
            "45/45 [==============================] - 8s 186ms/step - loss: 0.0961\n",
            "Epoch 57/100\n",
            "45/45 [==============================] - 7s 153ms/step - loss: 0.0958\n",
            "Epoch 58/100\n",
            "45/45 [==============================] - 8s 187ms/step - loss: 0.0959\n",
            "Epoch 59/100\n",
            "45/45 [==============================] - 8s 187ms/step - loss: 0.0961\n",
            "Epoch 60/100\n",
            "45/45 [==============================] - 8s 168ms/step - loss: 0.0965\n",
            "Epoch 61/100\n",
            "45/45 [==============================] - 8s 186ms/step - loss: 0.0965\n",
            "Epoch 62/100\n",
            "45/45 [==============================] - 7s 155ms/step - loss: 0.0957\n",
            "Epoch 63/100\n",
            "45/45 [==============================] - 8s 185ms/step - loss: 0.0961\n",
            "Epoch 64/100\n",
            "45/45 [==============================] - 8s 172ms/step - loss: 0.0959\n",
            "Epoch 65/100\n",
            "45/45 [==============================] - 8s 169ms/step - loss: 0.0959\n",
            "Epoch 66/100\n",
            "45/45 [==============================] - 9s 189ms/step - loss: 0.0961\n",
            "Epoch 67/100\n",
            "45/45 [==============================] - 7s 156ms/step - loss: 0.0959\n",
            "Epoch 68/100\n",
            "45/45 [==============================] - 8s 188ms/step - loss: 0.0960\n",
            "Epoch 69/100\n",
            "45/45 [==============================] - 8s 167ms/step - loss: 0.0958\n",
            "Epoch 70/100\n",
            "45/45 [==============================] - 8s 175ms/step - loss: 0.0960\n",
            "Epoch 71/100\n",
            "45/45 [==============================] - 9s 190ms/step - loss: 0.0961\n",
            "Epoch 72/100\n",
            "45/45 [==============================] - 7s 154ms/step - loss: 0.0960\n",
            "Epoch 73/100\n",
            "45/45 [==============================] - 8s 185ms/step - loss: 0.0957\n",
            "Epoch 74/100\n",
            "45/45 [==============================] - 7s 160ms/step - loss: 0.0962\n",
            "Epoch 75/100\n",
            "45/45 [==============================] - 8s 181ms/step - loss: 0.0959\n",
            "Epoch 76/100\n",
            "45/45 [==============================] - 8s 182ms/step - loss: 0.0962\n",
            "Epoch 77/100\n",
            "45/45 [==============================] - 7s 154ms/step - loss: 0.0957\n",
            "Epoch 78/100\n",
            "45/45 [==============================] - 8s 188ms/step - loss: 0.0959\n",
            "Epoch 79/100\n",
            "45/45 [==============================] - 7s 155ms/step - loss: 0.0959\n",
            "Epoch 80/100\n",
            "45/45 [==============================] - 8s 188ms/step - loss: 0.0959\n",
            "Epoch 81/100\n",
            "45/45 [==============================] - 8s 189ms/step - loss: 0.0958\n",
            "Epoch 82/100\n",
            "45/45 [==============================] - 7s 156ms/step - loss: 0.0961\n",
            "Epoch 83/100\n",
            "45/45 [==============================] - 8s 189ms/step - loss: 0.0959\n",
            "Epoch 84/100\n",
            "45/45 [==============================] - 7s 154ms/step - loss: 0.0956\n",
            "Epoch 85/100\n",
            "45/45 [==============================] - 8s 189ms/step - loss: 0.0961\n",
            "Epoch 86/100\n",
            "45/45 [==============================] - 8s 182ms/step - loss: 0.0958\n",
            "Epoch 87/100\n",
            "45/45 [==============================] - 7s 154ms/step - loss: 0.0959\n",
            "Epoch 88/100\n",
            "45/45 [==============================] - 8s 189ms/step - loss: 0.0958\n",
            "Epoch 89/100\n",
            "45/45 [==============================] - 7s 155ms/step - loss: 0.0958\n",
            "Epoch 90/100\n",
            "45/45 [==============================] - 8s 189ms/step - loss: 0.0959\n",
            "Epoch 91/100\n",
            "45/45 [==============================] - 8s 170ms/step - loss: 0.0958\n",
            "Epoch 92/100\n",
            "45/45 [==============================] - 8s 170ms/step - loss: 0.0957\n",
            "Epoch 93/100\n",
            "45/45 [==============================] - 8s 188ms/step - loss: 0.0959\n",
            "Epoch 94/100\n",
            "45/45 [==============================] - 7s 155ms/step - loss: 0.0959\n",
            "Epoch 95/100\n",
            "45/45 [==============================] - 8s 187ms/step - loss: 0.0959\n",
            "Epoch 96/100\n",
            "45/45 [==============================] - 7s 161ms/step - loss: 0.0958\n",
            "Epoch 97/100\n",
            "45/45 [==============================] - 8s 175ms/step - loss: 0.0959\n",
            "Epoch 98/100\n",
            "45/45 [==============================] - 8s 186ms/step - loss: 0.0959\n",
            "Epoch 99/100\n",
            "45/45 [==============================] - 7s 154ms/step - loss: 0.0958\n",
            "Epoch 100/100\n",
            "45/45 [==============================] - 8s 186ms/step - loss: 0.0958\n"
          ]
        },
        {
          "output_type": "execute_result",
          "data": {
            "text/plain": [
              "<keras.src.callbacks.History at 0x78f9440c3820>"
            ]
          },
          "metadata": {},
          "execution_count": 17
        }
      ]
    },
    {
      "cell_type": "code",
      "source": [
        "test_data = pd.read_csv('Test.csv')\n",
        "test_data.head()"
      ],
      "metadata": {
        "colab": {
          "base_uri": "https://localhost:8080/",
          "height": 206
        },
        "id": "5NvXVnnuapS1",
        "outputId": "94586906-f6f4-41f6-b5d3-fa673a41517d"
      },
      "execution_count": 27,
      "outputs": [
        {
          "output_type": "execute_result",
          "data": {
            "text/plain": [
              "         Date        Open        High         Low       Close   Adj Close  \\\n",
              "0  2023-12-01  190.330002  191.559998  189.229996  191.240005  190.737579   \n",
              "1  2023-12-04  189.979996  190.050003  187.449997  189.429993  188.932327   \n",
              "2  2023-12-05  190.210007  194.399994  190.179993  193.419998  192.911850   \n",
              "3  2023-12-06  194.449997  194.759995  192.110001  192.320007  191.814758   \n",
              "4  2023-12-07  193.630005  195.000000  193.589996  194.270004  193.759628   \n",
              "\n",
              "     Volume  \n",
              "0  45679300  \n",
              "1  43389500  \n",
              "2  66628400  \n",
              "3  41089700  \n",
              "4  47477700  "
            ],
            "text/html": [
              "\n",
              "  <div id=\"df-f3e316c1-c796-45b1-92dd-dd144dd5936f\" class=\"colab-df-container\">\n",
              "    <div>\n",
              "<style scoped>\n",
              "    .dataframe tbody tr th:only-of-type {\n",
              "        vertical-align: middle;\n",
              "    }\n",
              "\n",
              "    .dataframe tbody tr th {\n",
              "        vertical-align: top;\n",
              "    }\n",
              "\n",
              "    .dataframe thead th {\n",
              "        text-align: right;\n",
              "    }\n",
              "</style>\n",
              "<table border=\"1\" class=\"dataframe\">\n",
              "  <thead>\n",
              "    <tr style=\"text-align: right;\">\n",
              "      <th></th>\n",
              "      <th>Date</th>\n",
              "      <th>Open</th>\n",
              "      <th>High</th>\n",
              "      <th>Low</th>\n",
              "      <th>Close</th>\n",
              "      <th>Adj Close</th>\n",
              "      <th>Volume</th>\n",
              "    </tr>\n",
              "  </thead>\n",
              "  <tbody>\n",
              "    <tr>\n",
              "      <th>0</th>\n",
              "      <td>2023-12-01</td>\n",
              "      <td>190.330002</td>\n",
              "      <td>191.559998</td>\n",
              "      <td>189.229996</td>\n",
              "      <td>191.240005</td>\n",
              "      <td>190.737579</td>\n",
              "      <td>45679300</td>\n",
              "    </tr>\n",
              "    <tr>\n",
              "      <th>1</th>\n",
              "      <td>2023-12-04</td>\n",
              "      <td>189.979996</td>\n",
              "      <td>190.050003</td>\n",
              "      <td>187.449997</td>\n",
              "      <td>189.429993</td>\n",
              "      <td>188.932327</td>\n",
              "      <td>43389500</td>\n",
              "    </tr>\n",
              "    <tr>\n",
              "      <th>2</th>\n",
              "      <td>2023-12-05</td>\n",
              "      <td>190.210007</td>\n",
              "      <td>194.399994</td>\n",
              "      <td>190.179993</td>\n",
              "      <td>193.419998</td>\n",
              "      <td>192.911850</td>\n",
              "      <td>66628400</td>\n",
              "    </tr>\n",
              "    <tr>\n",
              "      <th>3</th>\n",
              "      <td>2023-12-06</td>\n",
              "      <td>194.449997</td>\n",
              "      <td>194.759995</td>\n",
              "      <td>192.110001</td>\n",
              "      <td>192.320007</td>\n",
              "      <td>191.814758</td>\n",
              "      <td>41089700</td>\n",
              "    </tr>\n",
              "    <tr>\n",
              "      <th>4</th>\n",
              "      <td>2023-12-07</td>\n",
              "      <td>193.630005</td>\n",
              "      <td>195.000000</td>\n",
              "      <td>193.589996</td>\n",
              "      <td>194.270004</td>\n",
              "      <td>193.759628</td>\n",
              "      <td>47477700</td>\n",
              "    </tr>\n",
              "  </tbody>\n",
              "</table>\n",
              "</div>\n",
              "    <div class=\"colab-df-buttons\">\n",
              "\n",
              "  <div class=\"colab-df-container\">\n",
              "    <button class=\"colab-df-convert\" onclick=\"convertToInteractive('df-f3e316c1-c796-45b1-92dd-dd144dd5936f')\"\n",
              "            title=\"Convert this dataframe to an interactive table.\"\n",
              "            style=\"display:none;\">\n",
              "\n",
              "  <svg xmlns=\"http://www.w3.org/2000/svg\" height=\"24px\" viewBox=\"0 -960 960 960\">\n",
              "    <path d=\"M120-120v-720h720v720H120Zm60-500h600v-160H180v160Zm220 220h160v-160H400v160Zm0 220h160v-160H400v160ZM180-400h160v-160H180v160Zm440 0h160v-160H620v160ZM180-180h160v-160H180v160Zm440 0h160v-160H620v160Z\"/>\n",
              "  </svg>\n",
              "    </button>\n",
              "\n",
              "  <style>\n",
              "    .colab-df-container {\n",
              "      display:flex;\n",
              "      gap: 12px;\n",
              "    }\n",
              "\n",
              "    .colab-df-convert {\n",
              "      background-color: #E8F0FE;\n",
              "      border: none;\n",
              "      border-radius: 50%;\n",
              "      cursor: pointer;\n",
              "      display: none;\n",
              "      fill: #1967D2;\n",
              "      height: 32px;\n",
              "      padding: 0 0 0 0;\n",
              "      width: 32px;\n",
              "    }\n",
              "\n",
              "    .colab-df-convert:hover {\n",
              "      background-color: #E2EBFA;\n",
              "      box-shadow: 0px 1px 2px rgba(60, 64, 67, 0.3), 0px 1px 3px 1px rgba(60, 64, 67, 0.15);\n",
              "      fill: #174EA6;\n",
              "    }\n",
              "\n",
              "    .colab-df-buttons div {\n",
              "      margin-bottom: 4px;\n",
              "    }\n",
              "\n",
              "    [theme=dark] .colab-df-convert {\n",
              "      background-color: #3B4455;\n",
              "      fill: #D2E3FC;\n",
              "    }\n",
              "\n",
              "    [theme=dark] .colab-df-convert:hover {\n",
              "      background-color: #434B5C;\n",
              "      box-shadow: 0px 1px 3px 1px rgba(0, 0, 0, 0.15);\n",
              "      filter: drop-shadow(0px 1px 2px rgba(0, 0, 0, 0.3));\n",
              "      fill: #FFFFFF;\n",
              "    }\n",
              "  </style>\n",
              "\n",
              "    <script>\n",
              "      const buttonEl =\n",
              "        document.querySelector('#df-f3e316c1-c796-45b1-92dd-dd144dd5936f button.colab-df-convert');\n",
              "      buttonEl.style.display =\n",
              "        google.colab.kernel.accessAllowed ? 'block' : 'none';\n",
              "\n",
              "      async function convertToInteractive(key) {\n",
              "        const element = document.querySelector('#df-f3e316c1-c796-45b1-92dd-dd144dd5936f');\n",
              "        const dataTable =\n",
              "          await google.colab.kernel.invokeFunction('convertToInteractive',\n",
              "                                                    [key], {});\n",
              "        if (!dataTable) return;\n",
              "\n",
              "        const docLinkHtml = 'Like what you see? Visit the ' +\n",
              "          '<a target=\"_blank\" href=https://colab.research.google.com/notebooks/data_table.ipynb>data table notebook</a>'\n",
              "          + ' to learn more about interactive tables.';\n",
              "        element.innerHTML = '';\n",
              "        dataTable['output_type'] = 'display_data';\n",
              "        await google.colab.output.renderOutput(dataTable, element);\n",
              "        const docLink = document.createElement('div');\n",
              "        docLink.innerHTML = docLinkHtml;\n",
              "        element.appendChild(docLink);\n",
              "      }\n",
              "    </script>\n",
              "  </div>\n",
              "\n",
              "\n",
              "<div id=\"df-8e98cbd4-6fa2-46a3-b009-c1cd487cde59\">\n",
              "  <button class=\"colab-df-quickchart\" onclick=\"quickchart('df-8e98cbd4-6fa2-46a3-b009-c1cd487cde59')\"\n",
              "            title=\"Suggest charts\"\n",
              "            style=\"display:none;\">\n",
              "\n",
              "<svg xmlns=\"http://www.w3.org/2000/svg\" height=\"24px\"viewBox=\"0 0 24 24\"\n",
              "     width=\"24px\">\n",
              "    <g>\n",
              "        <path d=\"M19 3H5c-1.1 0-2 .9-2 2v14c0 1.1.9 2 2 2h14c1.1 0 2-.9 2-2V5c0-1.1-.9-2-2-2zM9 17H7v-7h2v7zm4 0h-2V7h2v10zm4 0h-2v-4h2v4z\"/>\n",
              "    </g>\n",
              "</svg>\n",
              "  </button>\n",
              "\n",
              "<style>\n",
              "  .colab-df-quickchart {\n",
              "      --bg-color: #E8F0FE;\n",
              "      --fill-color: #1967D2;\n",
              "      --hover-bg-color: #E2EBFA;\n",
              "      --hover-fill-color: #174EA6;\n",
              "      --disabled-fill-color: #AAA;\n",
              "      --disabled-bg-color: #DDD;\n",
              "  }\n",
              "\n",
              "  [theme=dark] .colab-df-quickchart {\n",
              "      --bg-color: #3B4455;\n",
              "      --fill-color: #D2E3FC;\n",
              "      --hover-bg-color: #434B5C;\n",
              "      --hover-fill-color: #FFFFFF;\n",
              "      --disabled-bg-color: #3B4455;\n",
              "      --disabled-fill-color: #666;\n",
              "  }\n",
              "\n",
              "  .colab-df-quickchart {\n",
              "    background-color: var(--bg-color);\n",
              "    border: none;\n",
              "    border-radius: 50%;\n",
              "    cursor: pointer;\n",
              "    display: none;\n",
              "    fill: var(--fill-color);\n",
              "    height: 32px;\n",
              "    padding: 0;\n",
              "    width: 32px;\n",
              "  }\n",
              "\n",
              "  .colab-df-quickchart:hover {\n",
              "    background-color: var(--hover-bg-color);\n",
              "    box-shadow: 0 1px 2px rgba(60, 64, 67, 0.3), 0 1px 3px 1px rgba(60, 64, 67, 0.15);\n",
              "    fill: var(--button-hover-fill-color);\n",
              "  }\n",
              "\n",
              "  .colab-df-quickchart-complete:disabled,\n",
              "  .colab-df-quickchart-complete:disabled:hover {\n",
              "    background-color: var(--disabled-bg-color);\n",
              "    fill: var(--disabled-fill-color);\n",
              "    box-shadow: none;\n",
              "  }\n",
              "\n",
              "  .colab-df-spinner {\n",
              "    border: 2px solid var(--fill-color);\n",
              "    border-color: transparent;\n",
              "    border-bottom-color: var(--fill-color);\n",
              "    animation:\n",
              "      spin 1s steps(1) infinite;\n",
              "  }\n",
              "\n",
              "  @keyframes spin {\n",
              "    0% {\n",
              "      border-color: transparent;\n",
              "      border-bottom-color: var(--fill-color);\n",
              "      border-left-color: var(--fill-color);\n",
              "    }\n",
              "    20% {\n",
              "      border-color: transparent;\n",
              "      border-left-color: var(--fill-color);\n",
              "      border-top-color: var(--fill-color);\n",
              "    }\n",
              "    30% {\n",
              "      border-color: transparent;\n",
              "      border-left-color: var(--fill-color);\n",
              "      border-top-color: var(--fill-color);\n",
              "      border-right-color: var(--fill-color);\n",
              "    }\n",
              "    40% {\n",
              "      border-color: transparent;\n",
              "      border-right-color: var(--fill-color);\n",
              "      border-top-color: var(--fill-color);\n",
              "    }\n",
              "    60% {\n",
              "      border-color: transparent;\n",
              "      border-right-color: var(--fill-color);\n",
              "    }\n",
              "    80% {\n",
              "      border-color: transparent;\n",
              "      border-right-color: var(--fill-color);\n",
              "      border-bottom-color: var(--fill-color);\n",
              "    }\n",
              "    90% {\n",
              "      border-color: transparent;\n",
              "      border-bottom-color: var(--fill-color);\n",
              "    }\n",
              "  }\n",
              "</style>\n",
              "\n",
              "  <script>\n",
              "    async function quickchart(key) {\n",
              "      const quickchartButtonEl =\n",
              "        document.querySelector('#' + key + ' button');\n",
              "      quickchartButtonEl.disabled = true;  // To prevent multiple clicks.\n",
              "      quickchartButtonEl.classList.add('colab-df-spinner');\n",
              "      try {\n",
              "        const charts = await google.colab.kernel.invokeFunction(\n",
              "            'suggestCharts', [key], {});\n",
              "      } catch (error) {\n",
              "        console.error('Error during call to suggestCharts:', error);\n",
              "      }\n",
              "      quickchartButtonEl.classList.remove('colab-df-spinner');\n",
              "      quickchartButtonEl.classList.add('colab-df-quickchart-complete');\n",
              "    }\n",
              "    (() => {\n",
              "      let quickchartButtonEl =\n",
              "        document.querySelector('#df-8e98cbd4-6fa2-46a3-b009-c1cd487cde59 button');\n",
              "      quickchartButtonEl.style.display =\n",
              "        google.colab.kernel.accessAllowed ? 'block' : 'none';\n",
              "    })();\n",
              "  </script>\n",
              "</div>\n",
              "\n",
              "    </div>\n",
              "  </div>\n"
            ],
            "application/vnd.google.colaboratory.intrinsic+json": {
              "type": "dataframe",
              "variable_name": "test_data",
              "summary": "{\n  \"name\": \"test_data\",\n  \"rows\": 20,\n  \"fields\": [\n    {\n      \"column\": \"Date\",\n      \"properties\": {\n        \"dtype\": \"object\",\n        \"num_unique_values\": 20,\n        \"samples\": [\n          \"2023-12-01\",\n          \"2023-12-27\",\n          \"2023-12-22\"\n        ],\n        \"semantic_type\": \"\",\n        \"description\": \"\"\n      }\n    },\n    {\n      \"column\": \"Open\",\n      \"properties\": {\n        \"dtype\": \"number\",\n        \"std\": 2.301561575840993,\n        \"min\": 189.979996,\n        \"max\": 198.020004,\n        \"num_unique_values\": 20,\n        \"samples\": [\n          190.330002,\n          192.490005,\n          195.179993\n        ],\n        \"semantic_type\": \"\",\n        \"description\": \"\"\n      }\n    },\n    {\n      \"column\": \"High\",\n      \"properties\": {\n        \"dtype\": \"number\",\n        \"std\": 2.3189696975884364,\n        \"min\": 190.050003,\n        \"max\": 199.619995,\n        \"num_unique_values\": 19,\n        \"samples\": [\n          191.559998,\n          195.990005,\n          196.630005\n        ],\n        \"semantic_type\": \"\",\n        \"description\": \"\"\n      }\n    },\n    {\n      \"column\": \"Low\",\n      \"properties\": {\n        \"dtype\": \"number\",\n        \"std\": 2.3737195330068226,\n        \"min\": 187.449997,\n        \"max\": 197.0,\n        \"num_unique_values\": 20,\n        \"samples\": [\n          189.229996,\n          191.089996,\n          192.970001\n        ],\n        \"semantic_type\": \"\",\n        \"description\": \"\"\n      }\n    },\n    {\n      \"column\": \"Close\",\n      \"properties\": {\n        \"dtype\": \"number\",\n        \"std\": 2.256445926760546,\n        \"min\": 189.429993,\n        \"max\": 198.110001,\n        \"num_unique_values\": 20,\n        \"samples\": [\n          191.240005,\n          193.149994,\n          193.600006\n        ],\n        \"semantic_type\": \"\",\n        \"description\": \"\"\n      }\n    },\n    {\n      \"column\": \"Adj Close\",\n      \"properties\": {\n        \"dtype\": \"number\",\n        \"std\": 2.2505156709171907,\n        \"min\": 188.932327,\n        \"max\": 197.589523,\n        \"num_unique_values\": 20,\n        \"samples\": [\n          190.737579,\n          192.642548,\n          193.091385\n        ],\n        \"semantic_type\": \"\",\n        \"description\": \"\"\n      }\n    },\n    {\n      \"column\": \"Volume\",\n      \"properties\": {\n        \"dtype\": \"number\",\n        \"std\": 20836597,\n        \"min\": 28919300,\n        \"max\": 128256700,\n        \"num_unique_values\": 20,\n        \"samples\": [\n          45679300,\n          48087700,\n          37122800\n        ],\n        \"semantic_type\": \"\",\n        \"description\": \"\"\n      }\n    }\n  ]\n}"
            }
          },
          "metadata": {},
          "execution_count": 27
        }
      ]
    },
    {
      "cell_type": "code",
      "source": [
        "test_data.info()"
      ],
      "metadata": {
        "colab": {
          "base_uri": "https://localhost:8080/"
        },
        "id": "XYd0QOB_bMGG",
        "outputId": "0aed28e6-2ae4-43d7-d0ca-37dcfaf26089"
      },
      "execution_count": 28,
      "outputs": [
        {
          "output_type": "stream",
          "name": "stdout",
          "text": [
            "<class 'pandas.core.frame.DataFrame'>\n",
            "RangeIndex: 20 entries, 0 to 19\n",
            "Data columns (total 7 columns):\n",
            " #   Column     Non-Null Count  Dtype  \n",
            "---  ------     --------------  -----  \n",
            " 0   Date       20 non-null     object \n",
            " 1   Open       20 non-null     float64\n",
            " 2   High       20 non-null     float64\n",
            " 3   Low        20 non-null     float64\n",
            " 4   Close      20 non-null     float64\n",
            " 5   Adj Close  20 non-null     float64\n",
            " 6   Volume     20 non-null     int64  \n",
            "dtypes: float64(5), int64(1), object(1)\n",
            "memory usage: 1.2+ KB\n"
          ]
        }
      ]
    },
    {
      "cell_type": "code",
      "source": [
        "Stock_price = test_data.iloc[:,1:2].values"
      ],
      "metadata": {
        "id": "BGw3rQBbc5mC"
      },
      "execution_count": 29,
      "outputs": []
    },
    {
      "cell_type": "code",
      "source": [
        "Stock_price.shape"
      ],
      "metadata": {
        "colab": {
          "base_uri": "https://localhost:8080/"
        },
        "collapsed": true,
        "id": "Dj4mOyLddC0a",
        "outputId": "0dc8c29e-9e7d-40e0-de3a-6bfe44b3beb8"
      },
      "execution_count": 36,
      "outputs": [
        {
          "output_type": "execute_result",
          "data": {
            "text/plain": [
              "(20, 1)"
            ]
          },
          "metadata": {},
          "execution_count": 36
        }
      ]
    },
    {
      "cell_type": "code",
      "source": [
        "#Concatinating the data\n",
        "\n",
        "dataset_total = pd.concat((df['Open'], test_data['Open']), axis = 0)\n",
        "\n",
        "#Getting the inputs and outputs\n",
        "\n",
        "inputs = dataset_total[len(dataset_total) - len(test_data) - 60:].values\n",
        "\n",
        "inputs = inputs.reshape(-1,1)\n",
        "\n",
        "#feature scaling\n",
        "\n",
        "inputs = sc.transform(inputs)\n",
        "\n",
        "#creating a test set\n",
        "\n",
        "X_test = []\n",
        "\n",
        "for i in range(60, 80):\n",
        "    X_test.append(inputs[i-60:i, 0])\n",
        "\n",
        "X_test = np.array(X_test)\n",
        "\n",
        "X_test = X_test.reshape(X_test.shape[0], X_test.shape[1], 1)"
      ],
      "metadata": {
        "id": "xNCxG0dKdMQ7"
      },
      "execution_count": 37,
      "outputs": []
    },
    {
      "cell_type": "code",
      "source": [
        "#getting the prediction\n",
        "\n",
        "predicted_stock_price = model.predict(X_test)\n",
        "predicted_stock_price = predicted_stock_price.reshape(-1,1)\n",
        "#inverse transform\n",
        "\n",
        "predicted_stock_price = sc.inverse_transform(predicted_stock_price)"
      ],
      "metadata": {
        "colab": {
          "base_uri": "https://localhost:8080/"
        },
        "id": "AjwJDYDUhNik",
        "outputId": "0bd861ce-62bd-4a5a-8c63-5b6a8f09a5d5"
      },
      "execution_count": 39,
      "outputs": [
        {
          "output_type": "stream",
          "name": "stdout",
          "text": [
            "1/1 [==============================] - 0s 87ms/step\n"
          ]
        }
      ]
    },
    {
      "cell_type": "code",
      "source": [
        "print(Stock_price[12], predicted_stock_price[12])"
      ],
      "metadata": {
        "colab": {
          "base_uri": "https://localhost:8080/"
        },
        "id": "v-gyezpmiBG4",
        "outputId": "560f5f61-ca5f-402a-ca88-e9bad31a571a"
      },
      "execution_count": 45,
      "outputs": [
        {
          "output_type": "stream",
          "name": "stdout",
          "text": [
            "[196.160004] [112.018005]\n"
          ]
        }
      ]
    },
    {
      "cell_type": "code",
      "source": [
        "plt.plot(Stock_price, color = 'red', label = 'Real Apple Stock Price')\n",
        "plt.plot(predicted_stock_price, color = 'blue', label = 'Predicted Apple Stock Price')"
      ],
      "metadata": {
        "colab": {
          "base_uri": "https://localhost:8080/",
          "height": 448
        },
        "id": "3M_UQtU3iob5",
        "outputId": "132bfe55-ddf2-4d84-ee0d-79166d90609b"
      },
      "execution_count": 44,
      "outputs": [
        {
          "output_type": "execute_result",
          "data": {
            "text/plain": [
              "[<matplotlib.lines.Line2D at 0x78f93e7d5360>]"
            ]
          },
          "metadata": {},
          "execution_count": 44
        },
        {
          "output_type": "display_data",
          "data": {
            "text/plain": [
              "<Figure size 640x480 with 1 Axes>"
            ],
            "image/png": "[encoded data removed]"
          },
          "metadata": {}
        }
      ]
    }
  ]
}